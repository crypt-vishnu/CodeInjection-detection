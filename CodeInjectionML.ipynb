{
  "nbformat": 4,
  "nbformat_minor": 0,
  "metadata": {
    "colab": {
      "name": "CodeInjectionML.ipynb",
      "provenance": [],
      "collapsed_sections": []
    },
    "kernelspec": {
      "display_name": "Python 3",
      "name": "python3"
    },
    "language_info": {
      "name": "python"
    }
  },
  "cells": [
    {
      "cell_type": "code",
      "metadata": {
        "colab": {
          "base_uri": "https://localhost:8080/"
        },
        "id": "hNuFMP0Sc-F4",
        "outputId": "540ab8ff-b26c-4812-ac40-e84133e5669d"
      },
      "source": [
        "import pandas as pd\n",
        "from nltk.corpus import stopwords\n",
        "import nltk\n",
        "nltk.download('punkt')\n",
        "nltk.download('stopwords')\n",
        "nltk.download('wordnet')\n",
        "from sklearn.feature_extraction.text import CountVectorizer\n",
        "from sklearn.model_selection import train_test_split\n",
        "from sklearn.metrics import accuracy_score, precision_score, recall_score, f1_score\n",
        "from sklearn.naive_bayes import MultinomialNB,GaussianNB,ComplementNB,BernoulliNB\n",
        "from sklearn.linear_model import LogisticRegression\n",
        "from sklearn.metrics import classification_report, confusion_matrix"
      ],
      "execution_count": null,
      "outputs": [
        {
          "output_type": "stream",
          "name": "stdout",
          "text": [
            "[nltk_data] Downloading package punkt to /root/nltk_data...\n",
            "[nltk_data]   Unzipping tokenizers/punkt.zip.\n",
            "[nltk_data] Downloading package stopwords to /root/nltk_data...\n",
            "[nltk_data]   Unzipping corpora/stopwords.zip.\n",
            "[nltk_data] Downloading package wordnet to /root/nltk_data...\n",
            "[nltk_data]   Unzipping corpora/wordnet.zip.\n"
          ]
        }
      ]
    },
    {
      "cell_type": "code",
      "metadata": {
        "id": "6vGEpWiieJ23"
      },
      "source": [
        "df=pd.read_csv(\"/content/datasetCD.csv\")\n",
        "df.head(10)"
      ],
      "execution_count": null,
      "outputs": []
    },
    {
      "cell_type": "code",
      "metadata": {
        "id": "6Bk3B7CJHSdI"
      },
      "source": [
        "df.shape"
      ],
      "execution_count": null,
      "outputs": []
    },
    {
      "cell_type": "code",
      "metadata": {
        "id": "3P7QppJee2l8"
      },
      "source": [
        "df = df.dropna(how='any',axis=0)\n",
        "print(df.count())"
      ],
      "execution_count": null,
      "outputs": []
    },
    {
      "cell_type": "code",
      "metadata": {
        "id": "zwg0-q02fA4h"
      },
      "source": [
        "vectorizer = CountVectorizer( min_df=2, max_df=0.6, max_features=2809, stop_words=stopwords.words('english'))\n",
        "#Learn the vocabulary dictionary and return document-term matrix.\n",
        "posts = vectorizer.fit_transform(df['Sentence'].values.astype('U')).toarray()"
      ],
      "execution_count": null,
      "outputs": []
    },
    {
      "cell_type": "code",
      "metadata": {
        "id": "TMMJ12o_YoeP"
      },
      "source": [
        "posts.shape"
      ],
      "execution_count": null,
      "outputs": []
    },
    {
      "cell_type": "code",
      "metadata": {
        "id": "NElPwEcGJd6D"
      },
      "source": [
        "posts.shape=(5172,53,53,1)"
      ],
      "execution_count": null,
      "outputs": []
    },
    {
      "cell_type": "code",
      "metadata": {
        "id": "ExTmMDI6fTnC"
      },
      "source": [
        "X=posts\n",
        "Y=df['Label']"
      ],
      "execution_count": null,
      "outputs": []
    },
    {
      "cell_type": "code",
      "metadata": {
        "id": "LM1qvU1FfdMT"
      },
      "source": [
        "# split train test data\n",
        "X_train, X_test, Y_train, Y_test = train_test_split(X, Y, test_size=0.2, random_state=42)"
      ],
      "execution_count": null,
      "outputs": []
    },
    {
      "cell_type": "code",
      "metadata": {
        "id": "XlSFsFzIZReQ",
        "colab": {
          "base_uri": "https://localhost:8080/"
        },
        "outputId": "1529358c-642c-41f0-9783-443a18e75e56"
      },
      "source": [
        "X_train.shape\n",
        "X_test.shape"
      ],
      "execution_count": null,
      "outputs": [
        {
          "output_type": "execute_result",
          "data": {
            "text/plain": [
              "(1035, 53, 53, 1)"
            ]
          },
          "metadata": {},
          "execution_count": 12
        }
      ]
    },
    {
      "cell_type": "code",
      "metadata": {
        "id": "iwn7_DOLfjEq"
      },
      "source": [
        "trainX=X_train.copy()\n",
        "trainX.shape=(X_train.shape[0],trainX.shape[1]*trainX.shape[2])\n",
        "testX=X_test.copy()\n",
        "testX.shape=(testX.shape[0],testX.shape[1]*testX.shape[2])"
      ],
      "execution_count": null,
      "outputs": []
    },
    {
      "cell_type": "code",
      "metadata": {
        "id": "0vJ9_dkqf2YO"
      },
      "source": [
        "trainX.shape"
      ],
      "execution_count": null,
      "outputs": []
    },
    {
      "cell_type": "code",
      "metadata": {
        "id": "rTqsTB-SgAfJ"
      },
      "source": [
        "testX.shape"
      ],
      "execution_count": null,
      "outputs": []
    },
    {
      "cell_type": "markdown",
      "metadata": {
        "id": "iixGGCh8Zfvt"
      },
      "source": [
        "**Building the model**\n",
        "\n"
      ]
    },
    {
      "cell_type": "markdown",
      "metadata": {
        "id": "gMm5KJ2uiCn4"
      },
      "source": [
        "# 1.KNN"
      ]
    },
    {
      "cell_type": "code",
      "metadata": {
        "id": "C_Y3pY9_gDfw"
      },
      "source": [
        "from sklearn.neighbors import KNeighborsClassifier\n",
        "Model_knn = KNeighborsClassifier(n_neighbors=4)\n",
        "\n",
        "Model_knn.fit(trainX, Y_train)"
      ],
      "execution_count": null,
      "outputs": []
    },
    {
      "cell_type": "code",
      "metadata": {
        "id": "01m0kPphga5f"
      },
      "source": [
        "predt_KNN=Model_knn.predict(testX)"
      ],
      "execution_count": null,
      "outputs": []
    },
    {
      "cell_type": "code",
      "metadata": {
        "id": "MpjMz__HgupA"
      },
      "source": [
        "accuracy=accuracy_score(Y_test,predt_KNN)"
      ],
      "execution_count": null,
      "outputs": []
    },
    {
      "cell_type": "code",
      "metadata": {
        "id": "WRdVB9zLgzPN"
      },
      "source": [
        "accuracy"
      ],
      "execution_count": null,
      "outputs": []
    },
    {
      "cell_type": "code",
      "metadata": {
        "id": "nImYq4an53fA"
      },
      "source": [
        "classifier = KNeighborsClassifier()\n",
        "classifier.fit(trainX, Y_train)"
      ],
      "execution_count": null,
      "outputs": []
    },
    {
      "cell_type": "code",
      "metadata": {
        "id": "5nsFkg6t6IYr"
      },
      "source": [
        "import pickle\n",
        "def save(vectorizer, classifier):\n",
        "    '''\n",
        "    save classifier to disk\n",
        "    '''\n",
        "    with open('knn_model.pkl', 'wb') as file:\n",
        "        pickle.dump((vectorizer, classifier), file)   \n",
        "def load():\n",
        "    '''\n",
        "    load classifier from disk\n",
        "    '''\n",
        "    with open('knn_model.pkl', 'rb') as file:\n",
        "      vectorizer, classifier = pickle.load(file)\n",
        "    return vectorizer, classifier"
      ],
      "execution_count": null,
      "outputs": []
    },
    {
      "cell_type": "code",
      "metadata": {
        "id": "kkFALg6e6MMV"
      },
      "source": [
        "save(vectorizer, classifier)\n",
        "vectorizern, classifern = load()"
      ],
      "execution_count": null,
      "outputs": []
    },
    {
      "cell_type": "code",
      "metadata": {
        "id": "n0aX2vz26QbE"
      },
      "source": [
        "print('\\nPerform a test')                    \n",
        "#inp = [\"An intent filter is an expression in an app's manifest file that specifies the type of intents that the component would like to receive.\"]\n",
        "inp = [\"\\necho INJECTX\\nexit\\n\\033[2Acurl https://crowdshield.com/.testing/rce_vuln.txt\\n\"]\n",
        "input_transformed = vectorizern.transform(inp)\n",
        "prediction = classifern.predict(input_transformed.toarray())\n",
        "print('Input:', inp)\n",
        "if prediction:\n",
        "  print(\"Code Injection\")\n",
        "else:\n",
        "  print(\"Not Code Injection\")\n",
        "print('The input is', 'Code Injection type' if prediction else 'Not Code Injection type')"
      ],
      "execution_count": null,
      "outputs": []
    },
    {
      "cell_type": "markdown",
      "metadata": {
        "id": "X6zNJRmnjdG_"
      },
      "source": [
        "# 2.SVM"
      ]
    },
    {
      "cell_type": "code",
      "metadata": {
        "id": "XoHporRrjXC_"
      },
      "source": [
        "from sklearn.svm import SVC\n",
        "from sklearn import metrics\n",
        "sv_clf = SVC(gamma='auto',kernel='linear')\n",
        "#Fit the SVM model according to the given training data.\n",
        "sv_clf.fit(trainX, Y_train)\n",
        "#Perform classification on samples in X.\n",
        "pred_svm=sv_clf.predict(testX)"
      ],
      "execution_count": null,
      "outputs": []
    },
    {
      "cell_type": "code",
      "metadata": {
        "id": "RLRAp2KRjuAy"
      },
      "source": [
        "'''accuracySVM = accuracy_score(Y_test,pred_svm)\n",
        "print(\"Accuracy:\",accuracySVM)\n",
        "from sklearn import metrics'''\n",
        "\n",
        "\n",
        "print(\"Accuracy:\",metrics.accuracy_score(Y_test,pred_svm))"
      ],
      "execution_count": null,
      "outputs": []
    },
    {
      "cell_type": "code",
      "metadata": {
        "id": "1KuBlUeHqfYg"
      },
      "source": [
        "classifier = SVC()\n",
        "classifier.fit(trainX, Y_train)"
      ],
      "execution_count": null,
      "outputs": []
    },
    {
      "cell_type": "code",
      "metadata": {
        "id": "DBJ2D5Osoo2R"
      },
      "source": [
        "import pickle\n",
        "def save(vectorizer, classifier):\n",
        "    '''\n",
        "    save classifier to disk\n",
        "    '''\n",
        "    with open('svm_model.pkl', 'wb') as file:\n",
        "        pickle.dump((vectorizer, classifier), file)   \n",
        "def load():\n",
        "    '''\n",
        "    load classifier from disk\n",
        "    '''\n",
        "    with open('svm_model.pkl', 'rb') as file:\n",
        "      vectorizer, classifier = pickle.load(file)\n",
        "    return vectorizer, classifier"
      ],
      "execution_count": null,
      "outputs": []
    },
    {
      "cell_type": "code",
      "metadata": {
        "id": "UWxTks1Bp9k4"
      },
      "source": [
        "save(vectorizer, classifier)\n",
        "vectorizern, classifern = load()"
      ],
      "execution_count": null,
      "outputs": []
    },
    {
      "cell_type": "code",
      "metadata": {
        "id": "Dp2fqDVdrTYf"
      },
      "source": [
        "print('\\nPerform a test')                    \n",
        "#inp = [\"An intent filter is an expression in an app's manifest file that specifies the type of intents that the component would like to receive.\"]\n",
        "inp = [\"\\necho INJECTX\\nexit\\n\\033[2Asleep 5\\n\"]\n",
        "input_transformed = vectorizern.transform(inp)\n",
        "prediction = classifern.predict(input_transformed.toarray())\n",
        "print('Input:', inp)\n",
        "if prediction:\n",
        "  print(\"Code Injection\")\n",
        "else:\n",
        "  print(\"Not Code Injection\")\n",
        "print('The input is', 'Code Injection' if prediction else 'Not Code Injection')"
      ],
      "execution_count": null,
      "outputs": []
    },
    {
      "cell_type": "markdown",
      "metadata": {
        "id": "4KrV4tTTkaU5"
      },
      "source": [
        "# 3.Decisin tree"
      ]
    },
    {
      "cell_type": "code",
      "metadata": {
        "id": "HtcVXW6-kZYE"
      },
      "source": [
        "from sklearn import tree"
      ],
      "execution_count": null,
      "outputs": []
    },
    {
      "cell_type": "code",
      "metadata": {
        "id": "G3CD3Xbwkqxd"
      },
      "source": [
        "dt = tree.DecisionTreeClassifier()\n",
        "dt = dt.fit(trainX, Y_train)\n",
        "pred_dt = dt.predict(testX)"
      ],
      "execution_count": null,
      "outputs": []
    },
    {
      "cell_type": "code",
      "metadata": {
        "id": "VTXLlDNQkvES"
      },
      "source": [
        "accuracyDectr = accuracy_score(Y_test,pred_dt)\n",
        "print(\"Accuracy:\",accuracyDectr)"
      ],
      "execution_count": null,
      "outputs": []
    },
    {
      "cell_type": "code",
      "metadata": {
        "id": "ysF510Bvb--F"
      },
      "source": [
        "classifier = tree.DecisionTreeClassifier()\n",
        "classifier.fit(trainX, Y_train)"
      ],
      "execution_count": null,
      "outputs": []
    },
    {
      "cell_type": "code",
      "metadata": {
        "id": "WiubgUUTcbkB"
      },
      "source": [
        "import pickle\n",
        "def save(vectorizer, classifier):\n",
        "    '''\n",
        "    save classifier to disk\n",
        "    '''\n",
        "    with open('DT_model.pkl', 'wb') as file:\n",
        "        pickle.dump((vectorizer, classifier), file)   \n",
        "def load():\n",
        "    '''\n",
        "    load classifier from disk\n",
        "    '''\n",
        "    with open('DT_model.pkl', 'rb') as file:\n",
        "      vectorizer, classifier = pickle.load(file)\n",
        "    return vectorizer, classifier"
      ],
      "execution_count": null,
      "outputs": []
    },
    {
      "cell_type": "code",
      "metadata": {
        "id": "_TATbcr-dAq_"
      },
      "source": [
        "save(vectorizer, classifier)\n",
        "vectorizern, classifern = load()"
      ],
      "execution_count": null,
      "outputs": []
    },
    {
      "cell_type": "code",
      "metadata": {
        "id": "Cd6mMRCJdF6o"
      },
      "source": [
        "type(classifern)"
      ],
      "execution_count": null,
      "outputs": []
    },
    {
      "cell_type": "code",
      "metadata": {
        "id": "OnCe-iRjdHpY"
      },
      "source": [
        "print('\\nPerform a test')                    \n",
        "#inp = [\"An intent filter is an expression in an app's manifest file that specifies the type of intents that the component would like to receive.\"]\n",
        "inp = [\"| net localgroup Administrators hacker /ADD\"]\n",
        "input_transformed = vectorizern.transform(inp)\n",
        "prediction = classifern.predict(input_transformed.toarray())\n",
        "print('Input:', inp)\n",
        "if prediction:\n",
        "  print(\"Code Injection\")\n",
        "else:\n",
        "  print(\"Not Code Injection\")\n",
        "print('The input is', 'Code Injection' if prediction else 'Not Code Injection')"
      ],
      "execution_count": null,
      "outputs": []
    },
    {
      "cell_type": "markdown",
      "metadata": {
        "id": "gEAvIxWYEvu3"
      },
      "source": [
        "# 4.Naive Bayes"
      ]
    },
    {
      "cell_type": "code",
      "metadata": {
        "id": "HY9XsGAUEu4b"
      },
      "source": [
        "def acc_pre_rec(nav_bay):\n",
        "  accuracy=accuracy_score(Y_test,nav_bay)\n",
        "  precision=precision_score(Y_test,nav_bay)\n",
        "  recall=recall_score(Y_test,nav_bay)\n",
        "  f1=f1_score(Y_test,nav_bay)\n",
        "  return accuracy,precision,recall,f1"
      ],
      "execution_count": null,
      "outputs": []
    },
    {
      "cell_type": "code",
      "metadata": {
        "id": "KPPIaSOZFHj9"
      },
      "source": [
        "Model_NB=pd.DataFrame({\"Model\":[],\"Accuracy\":[],\"Precision\":[],\"recall\":[],\"f1\":[]})\n",
        "mnb = MultinomialNB().fit(trainX, Y_train).predict(testX)\n",
        "gnb = GaussianNB().fit(trainX, Y_train).predict(testX)\n",
        "cnb = ComplementNB().fit(trainX, Y_train).predict(testX)\n",
        "bnb = BernoulliNB().fit(trainX, Y_train).predict(testX)\n",
        "accuracy,precision,recall,f1=acc_pre_rec(mnb)\n",
        "Model_NB=Model_NB.append({\"Model\":\"MultinomialNB\",\"Accuracy\":accuracy,\"Precision\":precision,\"recall\":recall,\"f1\":f1},ignore_index=True)\n",
        "accuracy,precision,recall,f1=acc_pre_rec(gnb)\n",
        "Model_NB=Model_NB.append({\"Model\":\"GaussianNB\",\"Accuracy\":accuracy,\"Precision\":precision,\"recall\":recall,\"f1\":f1},ignore_index=True)\n",
        "accuracy,precision,recall,f1=acc_pre_rec(cnb)\n",
        "Model_NB=Model_NB.append({\"Model\":\"ComplementNB\",\"Accuracy\":accuracy,\"Precision\":precision,\"recall\":recall,\"f1\":f1},ignore_index=True)\n",
        "accuracy,precision,recall,f1=acc_pre_rec(bnb)\n",
        "Model_NB=Model_NB.append({\"Model\":\"BernoulliNB\",\"Accuracy\":accuracy,\"Precision\":precision,\"recall\":recall,\"f1\":f1},ignore_index=True)\n",
        "Model_NB"
      ],
      "execution_count": null,
      "outputs": []
    },
    {
      "cell_type": "code",
      "metadata": {
        "id": "8B-2vUwCFSOw"
      },
      "source": [
        "# train the classifier\n",
        "classifier = GaussianNB()\n",
        "classifier.fit(trainX, Y_train)"
      ],
      "execution_count": null,
      "outputs": []
    },
    {
      "cell_type": "code",
      "metadata": {
        "id": "4Gf47jxYZJz5"
      },
      "source": [
        "import pickle\n",
        "def save(vectorizer, classifier):\n",
        "    '''\n",
        "    save classifier to disk\n",
        "    '''\n",
        "    with open('NB_model.pkl', 'wb') as file:\n",
        "        pickle.dump((vectorizer, classifier), file)   \n",
        "def load():\n",
        "    '''\n",
        "    load classifier from disk\n",
        "    '''\n",
        "    with open('NB_model.pkl', 'rb') as file:\n",
        "      vectorizer, classifier = pickle.load(file)\n",
        "    return vectorizer, classifier"
      ],
      "execution_count": null,
      "outputs": []
    },
    {
      "cell_type": "code",
      "metadata": {
        "id": "YMUsRaL4ZQRJ"
      },
      "source": [
        "save(vectorizer, classifier)\n",
        "vectorizern, classifern = load()"
      ],
      "execution_count": null,
      "outputs": []
    },
    {
      "cell_type": "code",
      "metadata": {
        "id": "c8dz2cPaZat9"
      },
      "source": [
        "type(classifern)"
      ],
      "execution_count": null,
      "outputs": []
    },
    {
      "cell_type": "code",
      "metadata": {
        "id": "QezQCHYUZgxJ"
      },
      "source": [
        "print('\\nPerform a test')                    \n",
        "inp = [\"An intent filter is an expression in an app's manifest file that specifies the type of intents that the component would like to receive.\"]\n",
        "#inp = [\"; net localgroup Administrators hacker /ADD\"]\n",
        "input_transformed = vectorizern.transform(inp)\n",
        "prediction = classifern.predict(input_transformed.toarray())\n",
        "print('Input:', inp)\n",
        "if prediction:\n",
        "  print(\"Code Injection\")\n",
        "else:\n",
        "  print(\"Not Code Injection\")\n",
        "print('The input is', 'Code Injection' if prediction else 'Not Code Injection')"
      ],
      "execution_count": null,
      "outputs": []
    },
    {
      "cell_type": "markdown",
      "metadata": {
        "id": "qUE7ix44FNtd"
      },
      "source": [
        "# 5.Logistic Regression"
      ]
    },
    {
      "cell_type": "code",
      "metadata": {
        "id": "v5xd04cSFNE2"
      },
      "source": [
        "model_LR = LogisticRegression(solver='liblinear',C=10.0, random_state=0)"
      ],
      "execution_count": null,
      "outputs": []
    },
    {
      "cell_type": "code",
      "metadata": {
        "id": "Yz0uTyFLFiZ4"
      },
      "source": [
        "model_LR.fit(trainX,Y_train)"
      ],
      "execution_count": null,
      "outputs": []
    },
    {
      "cell_type": "code",
      "metadata": {
        "id": "QMkO6Gc-Fmri"
      },
      "source": [
        "pred_LR=model_LR.predict(testX)"
      ],
      "execution_count": null,
      "outputs": []
    },
    {
      "cell_type": "code",
      "metadata": {
        "id": "In9sl2ECFq-u"
      },
      "source": [
        "print(\"Accuracy:\",accuracy_score(Y_test, pred_LR))"
      ],
      "execution_count": null,
      "outputs": []
    },
    {
      "cell_type": "code",
      "metadata": {
        "id": "uKFLxkypXkqX"
      },
      "source": [
        "import pickle\n",
        "def save(vectorizer, classifier):\n",
        "    '''\n",
        "    save classifier to disk\n",
        "    '''\n",
        "    with open('LR_model.pkl', 'wb') as file:\n",
        "        pickle.dump((vectorizer, classifier), file)   \n",
        "def load():\n",
        "    '''\n",
        "    load classifier from disk\n",
        "    '''\n",
        "    with open('LR_model.pkl', 'rb') as file:\n",
        "      vectorizer, classifier = pickle.load(file)\n",
        "    return vectorizer, classifier"
      ],
      "execution_count": null,
      "outputs": []
    },
    {
      "cell_type": "code",
      "metadata": {
        "id": "dIeltLb631AL"
      },
      "source": [
        "save(vectorizer, classifier)\n",
        "vectorizern, classifern = load()"
      ],
      "execution_count": null,
      "outputs": []
    },
    {
      "cell_type": "code",
      "metadata": {
        "id": "tcSnlAAL34xi"
      },
      "source": [
        "print('\\nPerform a test')                    \n",
        "#inp = [\"An intent filter is an expression in an app's manifest file that specifies the type of intents that the component would like to receive.\"]\n",
        "inp = [\"&& netsh firewall set opmode disable\"]\n",
        "input_transformed = vectorizern.transform(inp)\n",
        "prediction = classifern.predict(input_transformed.toarray())\n",
        "print('Input:', inp)\n",
        "if prediction:\n",
        "  print(\"Code Injection\")\n",
        "else:\n",
        "  print(\"Not Code Injection\")\n",
        "print('The input is', 'Code Injection' if prediction else 'Not Code Injection')"
      ],
      "execution_count": null,
      "outputs": []
    },
    {
      "cell_type": "markdown",
      "metadata": {
        "id": "D5QKumsfViOC"
      },
      "source": [
        "# 6.Random Forest"
      ]
    },
    {
      "cell_type": "code",
      "metadata": {
        "id": "199uopL0VmkQ"
      },
      "source": [
        "from sklearn.ensemble import RandomForestClassifier"
      ],
      "execution_count": null,
      "outputs": []
    },
    {
      "cell_type": "code",
      "metadata": {
        "id": "tqBBTH7mV5OU"
      },
      "source": [
        "model = RandomForestClassifier()"
      ],
      "execution_count": null,
      "outputs": []
    },
    {
      "cell_type": "code",
      "metadata": {
        "id": "Tpw1DtgIWCtF"
      },
      "source": [
        "model.fit(trainX, Y_train)"
      ],
      "execution_count": null,
      "outputs": []
    },
    {
      "cell_type": "code",
      "metadata": {
        "id": "AZQ2JAR6Wc7Q"
      },
      "source": [
        "pred_RF = model.predict(testX)"
      ],
      "execution_count": null,
      "outputs": []
    },
    {
      "cell_type": "code",
      "metadata": {
        "id": "M3m-AtGvW-CA"
      },
      "source": [
        "print(\"Accuracy:\",accuracy_score(Y_test, pred_RF))"
      ],
      "execution_count": null,
      "outputs": []
    },
    {
      "cell_type": "code",
      "metadata": {
        "id": "zh6_0OjNtFi8"
      },
      "source": [
        "classifier = RandomForestClassifier()\n",
        "classifier.fit(trainX, Y_train)"
      ],
      "execution_count": null,
      "outputs": []
    },
    {
      "cell_type": "code",
      "metadata": {
        "id": "cZ7FQYqG2vmA"
      },
      "source": [
        "import pickle\n",
        "def save(vectorizer, classifier):\n",
        "    '''\n",
        "    save classifier to disk\n",
        "    '''\n",
        "    with open('RF_model.pkl', 'wb') as file:\n",
        "        pickle.dump((vectorizer, classifier), file)   \n",
        "def load():\n",
        "    '''\n",
        "    load classifier from disk\n",
        "    '''\n",
        "    with open('RF_model.pkl', 'rb') as file:\n",
        "      vectorizer, classifier = pickle.load(file)\n",
        "    return vectorizer, classifier"
      ],
      "execution_count": null,
      "outputs": []
    },
    {
      "cell_type": "code",
      "metadata": {
        "id": "rTQTAMA027B_"
      },
      "source": [
        "save(vectorizer, classifier)\n",
        "vectorizern, classifern = load()"
      ],
      "execution_count": null,
      "outputs": []
    },
    {
      "cell_type": "code",
      "metadata": {
        "id": "anXmIMhe2_TI"
      },
      "source": [
        "type(classifern)"
      ],
      "execution_count": null,
      "outputs": []
    },
    {
      "cell_type": "code",
      "metadata": {
        "id": "9yr1JIjZ3DBk"
      },
      "source": [
        "print('\\nPerform a test')                    \n",
        "#inp = [\"An intent filter is an expression in an app's manifest file that specifies the type of intents that the component would like to receive.\"]\n",
        "inp = [\"%0a ping -i 30 127.0.0.1 %0a\"]\n",
        "input_transformed = vectorizern.transform(inp)\n",
        "prediction = classifern.predict(input_transformed.toarray())\n",
        "print('Input:', inp)\n",
        "if prediction:\n",
        "  print(\"Code Injection\")\n",
        "else:\n",
        "  print(\"Not Code Injection\")\n",
        "print('The input is', 'Code Injection' if prediction else 'Not Code Injection')"
      ],
      "execution_count": null,
      "outputs": []
    }
  ]
}